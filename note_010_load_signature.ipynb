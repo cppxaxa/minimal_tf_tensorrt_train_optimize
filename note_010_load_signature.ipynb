{
 "cells": [
  {
   "cell_type": "code",
   "execution_count": 1,
   "metadata": {},
   "outputs": [
    {
     "name": "stderr",
     "output_type": "stream",
     "text": [
      "/home/cppxaxa/.local/lib/python3.6/site-packages/tensorflow/python/framework/dtypes.py:523: FutureWarning: Passing (type, 1) or '1type' as a synonym of type is deprecated; in a future version of numpy, it will be understood as (type, (1,)) / '(1,)type'.\n",
      "  _np_qint8 = np.dtype([(\"qint8\", np.int8, 1)])\n",
      "/home/cppxaxa/.local/lib/python3.6/site-packages/tensorflow/python/framework/dtypes.py:524: FutureWarning: Passing (type, 1) or '1type' as a synonym of type is deprecated; in a future version of numpy, it will be understood as (type, (1,)) / '(1,)type'.\n",
      "  _np_quint8 = np.dtype([(\"quint8\", np.uint8, 1)])\n",
      "/home/cppxaxa/.local/lib/python3.6/site-packages/tensorflow/python/framework/dtypes.py:525: FutureWarning: Passing (type, 1) or '1type' as a synonym of type is deprecated; in a future version of numpy, it will be understood as (type, (1,)) / '(1,)type'.\n",
      "  _np_qint16 = np.dtype([(\"qint16\", np.int16, 1)])\n",
      "/home/cppxaxa/.local/lib/python3.6/site-packages/tensorflow/python/framework/dtypes.py:526: FutureWarning: Passing (type, 1) or '1type' as a synonym of type is deprecated; in a future version of numpy, it will be understood as (type, (1,)) / '(1,)type'.\n",
      "  _np_quint16 = np.dtype([(\"quint16\", np.uint16, 1)])\n",
      "/home/cppxaxa/.local/lib/python3.6/site-packages/tensorflow/python/framework/dtypes.py:527: FutureWarning: Passing (type, 1) or '1type' as a synonym of type is deprecated; in a future version of numpy, it will be understood as (type, (1,)) / '(1,)type'.\n",
      "  _np_qint32 = np.dtype([(\"qint32\", np.int32, 1)])\n",
      "/home/cppxaxa/.local/lib/python3.6/site-packages/tensorflow/python/framework/dtypes.py:532: FutureWarning: Passing (type, 1) or '1type' as a synonym of type is deprecated; in a future version of numpy, it will be understood as (type, (1,)) / '(1,)type'.\n",
      "  np_resource = np.dtype([(\"resource\", np.ubyte, 1)])\n"
     ]
    }
   ],
   "source": [
    "import tensorflow as tf\n",
    "import time\n",
    "import os\n",
    "import numpy as np"
   ]
  },
  {
   "cell_type": "code",
   "execution_count": 5,
   "metadata": {},
   "outputs": [
    {
     "name": "stdout",
     "output_type": "stream",
     "text": [
      "INFO:tensorflow:Restoring parameters from xor_010_ck/variables/variables\n",
      "Result  [[0.01750605]]\n",
      "Elapsed time  0.007431507110595703\n",
      "Result  [[0.01750605]]\n",
      "Elapsed time  0.0009229183197021484\n",
      "Done\n"
     ]
    }
   ],
   "source": [
    "XOR_X = [[0,0],[0,1],[1,0],[1,1]]\n",
    "XOR_X = [[0,0]]\n",
    "\n",
    "model_path = 'xor_010_ck'\n",
    "\n",
    "session_conf = tf.ConfigProto(\n",
    "    device_count={'CPU' : 1, 'GPU' : 0},\n",
    "    allow_soft_placement=True,\n",
    "    log_device_placement=False\n",
    ")\n",
    "\n",
    "with tf.Session(config=session_conf) as sess:\n",
    "    tf.saved_model.loader.load(sess, [tf.saved_model.tag_constants.SERVING], model_path)\n",
    "    t_start = time.time()\n",
    "    print('Result ', sess.run('result:0', feed_dict={'n_input:0': XOR_X}))\n",
    "    t_end = time.time()\n",
    "    print('Elapsed time ', t_end - t_start)\n",
    "    \n",
    "    t_start = time.time()\n",
    "    print('Result ', sess.run('result:0', feed_dict={'n_input:0': XOR_X}))\n",
    "    t_end = time.time()\n",
    "    print('Elapsed time ', t_end - t_start)\n",
    "\n",
    "print('Done')"
   ]
  },
  {
   "cell_type": "code",
   "execution_count": 8,
   "metadata": {},
   "outputs": [
    {
     "name": "stdout",
     "output_type": "stream",
     "text": [
      "INFO:tensorflow:Restoring parameters from xor_010_ck/variables/variables\n",
      "Result  [[0.01750605]]\n",
      "Elapsed time  0.01157689094543457\n",
      "Result  [[0.01750605]]\n",
      "Elapsed time  0.0012171268463134766\n",
      "Done\n"
     ]
    }
   ],
   "source": [
    "with tf.Session() as sess:\n",
    "    tf.saved_model.loader.load(sess, [tf.saved_model.tag_constants.SERVING], model_path)\n",
    "    t_start = time.time()\n",
    "    print('Result ', sess.run('result:0', feed_dict={'n_input:0': XOR_X}))\n",
    "    t_end = time.time()\n",
    "    print('Elapsed time ', t_end - t_start)\n",
    "    \n",
    "    t_start = time.time()\n",
    "    print('Result ', sess.run('result:0', feed_dict={'n_input:0': XOR_X}))\n",
    "    t_end = time.time()\n",
    "    print('Elapsed time ', t_end - t_start)\n",
    "    \n",
    "print('Done')"
   ]
  }
 ],
 "metadata": {
  "kernelspec": {
   "display_name": "Python 3",
   "language": "python",
   "name": "python3"
  },
  "language_info": {
   "codemirror_mode": {
    "name": "ipython",
    "version": 3
   },
   "file_extension": ".py",
   "mimetype": "text/x-python",
   "name": "python",
   "nbconvert_exporter": "python",
   "pygments_lexer": "ipython3",
   "version": "3.6.7"
  }
 },
 "nbformat": 4,
 "nbformat_minor": 4
}
